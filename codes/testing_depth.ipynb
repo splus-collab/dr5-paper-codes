{
 "cells": [
  {
   "cell_type": "code",
   "execution_count": 15,
   "metadata": {},
   "outputs": [],
   "source": [
    "from astropy.table import Table\n",
    "import numpy as np\n",
    "import matplotlib.pyplot as plt\n",
    "from scipy.optimize import curve_fit\n",
    "import os"
   ]
  },
  {
   "cell_type": "code",
   "execution_count": 6,
   "metadata": {},
   "outputs": [],
   "source": [
    "tab = Table.read(\"/storage/splus/Catalogues/iDR5/idr5/dual/HYDRA-0035.fits\")"
   ]
  },
  {
   "cell_type": "code",
   "execution_count": 16,
   "metadata": {},
   "outputs": [],
   "source": [
    "# File directory and bands setup\n",
    "dual_cats = os.listdir(\"/storage/splus/Catalogues/iDR5/idr5/dual/\")"
   ]
  },
  {
   "cell_type": "code",
   "execution_count": 7,
   "metadata": {},
   "outputs": [],
   "source": [
    "bands = [\"J0378\", \"J0395\", \"J0410\", \"J0430\", \"J0515\", \"J0660\", \"J0861\", \"i\", \"r\", \"u\", \"z\", \"g\"]"
   ]
  },
  {
   "cell_type": "code",
   "execution_count": null,
   "metadata": {},
   "outputs": [
    {
     "name": "stdout",
     "output_type": "stream",
     "text": [
      "Band: J0378 | SNR: 3\n",
      "Peak (value): 20.419\n",
      "Band: J0378 | SNR: 5\n",
      "Peak (value): 19.223\n",
      "Band: J0378 | SNR: 10\n",
      "Peak (value): 18.345\n",
      "Band: J0378 | SNR: 50\n",
      "Peak (value): 17.078\n"
     ]
    }
   ],
   "source": [
    "from astropy.table import Table\n",
    "import numpy as np\n",
    "import pandas as pd\n",
    "import os\n",
    "from multiprocessing import Pool, Manager\n",
    "from tqdm import tqdm  # For progress tracking (optional)\n",
    "\n",
    "# Directory and data setup\n",
    "dual_cats = os.listdir(\"/storage/splus/Catalogues/iDR5/idr5/dual/\")\n",
    "bands = [\"J0378\", \"J0395\", \"J0410\", \"J0430\", \"J0515\", \"J0660\", \"J0861\", \"i\", \"r\", \"u\", \"z\", \"g\"]\n",
    "snr_values = [3, 5, 10, 50]\n",
    "\n",
    "# Function to process each file\n",
    "def process_file(file):\n",
    "    results = []\n",
    "    try:\n",
    "        tab = Table.read(f\"/storage/splus/Catalogues/iDR5/idr5/dual/{file}\")\n",
    "\n",
    "        for band in bands:\n",
    "            for snr_value in snr_values:\n",
    "                # Filter data based on SNR\n",
    "                if f\"s2n_{band}_petro\" in tab.colnames and f\"{band}_petro\" in tab.colnames:\n",
    "                    snr_selection = tab[tab[f\"s2n_{band}_petro\"] > snr_value]\n",
    "                    data = snr_selection[f\"{band}_petro\"]\n",
    "\n",
    "                    # Remove NaNs, infs, and outliers\n",
    "                    data = data[np.isfinite(data)]\n",
    "                    data = data[(data > 16) & (data < 24)]\n",
    "\n",
    "                    if len(data) > 0:\n",
    "                        # Create histogram and find peak\n",
    "                        counts, bin_edges = np.histogram(data, bins=100, density=True)\n",
    "                        bin_centers = (bin_edges[:-1] + bin_edges[1:]) / 2\n",
    "                        max_index = np.argmax(counts)\n",
    "                        peak_value = bin_centers[max_index]\n",
    "\n",
    "                        # Append result\n",
    "                        results.append({\n",
    "                            'field': file,\n",
    "                            'band': band,\n",
    "                            'peak': peak_value,\n",
    "                            'snr_value': snr_value\n",
    "                        })\n",
    "    except Exception as e:\n",
    "        print(f\"Error processing {file}: {e}\")\n",
    "    return results\n",
    "\n",
    "if __name__ == \"__main__\":\n",
    "    # Use multiprocessing to process files in parallel\n",
    "    with Pool(processes=os.cpu_count()) as pool:\n",
    "        all_results = list(tqdm(pool.imap(process_file, dual_cats), total=len(dual_cats)))\n",
    "\n",
    "    # Flatten the list of results\n",
    "    flat_results = [item for sublist in all_results for item in sublist]\n",
    "\n",
    "    # Create DataFrame\n",
    "    df = pd.DataFrame(flat_results)\n",
    "    \n",
    "    # Save to CSV\n",
    "    df.to_csv(\"../data/dual_peaks.csv\", index=False)\n",
    "\n",
    "    # Display the first few rows\n",
    "    print(df.head())"
   ]
  },
  {
   "cell_type": "code",
   "execution_count": null,
   "metadata": {},
   "outputs": [],
   "source": []
  }
 ],
 "metadata": {
  "kernelspec": {
   "display_name": "base",
   "language": "python",
   "name": "python3"
  },
  "language_info": {
   "codemirror_mode": {
    "name": "ipython",
    "version": 3
   },
   "file_extension": ".py",
   "mimetype": "text/x-python",
   "name": "python",
   "nbconvert_exporter": "python",
   "pygments_lexer": "ipython3",
   "version": "3.11.5"
  }
 },
 "nbformat": 4,
 "nbformat_minor": 2
}
