{
 "cells": [
  {
   "cell_type": "code",
   "execution_count": 6,
   "metadata": {},
   "outputs": [
    {
     "name": "stdout",
     "output_type": "stream",
     "text": [
      "04/02/2025 19:52:31  [time] - match_with_sdss() executed in 0.0025s\n",
      "04/02/2025 19:52:31  [time] - match_with_sdss() executed in 0.0022s\n",
      "04/02/2025 19:52:31  [time] - match_with_sdss() executed in 0.0019s\n",
      "   object_id  matched_ra  matched_dec                objid     u_mag  \\\n",
      "0        2.0  150.030945     2.094795  1237651753997239253  25.34865   \n",
      "\n",
      "      g_mag     r_mag    i_mag     z_mag  \n",
      "0  23.57743  22.52882  21.8371  21.31751  \n"
     ]
    }
   ],
   "source": [
    "from astroquery.sdss import SDSS\n",
    "from astropy.coordinates import SkyCoord\n",
    "from astropy import units as u\n",
    "import pandas as pd\n",
    "from logpool import control\n",
    "\n",
    "# Example DataFrame with your objects: replace with your data\n",
    "data = {\n",
    "    'object_id': [1, 2, 3],\n",
    "    'ra': [150.025, 150.030, 150.035],  # Right Ascension in degrees\n",
    "    'dec': [2.090, 2.095, 2.100]       # Declination in degrees\n",
    "}\n",
    "df = pd.DataFrame(data)\n",
    "\n",
    "# Function to match with SDSS\n",
    "@control.timer\n",
    "def match_with_sdss(ra, dec, radius=5*u.arcsec):\n",
    "    coord = SkyCoord(ra=ra*u.deg, dec=dec*u.deg)\n",
    "    result = SDSS.query_region(coord, radius=radius, photoobj_fields=['ra', 'dec', 'objid', 'u', 'g', 'r', 'i', 'z'])\n",
    "    return result\n",
    "\n",
    "# Apply matching for each object\n",
    "matches = []\n",
    "for _, row in df.iterrows():\n",
    "    result = match_with_sdss(row['ra'], row['dec'])\n",
    "    if result:\n",
    "        for res in result:\n",
    "            matches.append({\n",
    "                'object_id': row['object_id'],\n",
    "                'matched_ra': res['ra'],\n",
    "                'matched_dec': res['dec'],\n",
    "                'objid': res['objid'],\n",
    "                'u_mag': res['u'],\n",
    "                'g_mag': res['g'],\n",
    "                'r_mag': res['r'],\n",
    "                'i_mag': res['i'],\n",
    "                'z_mag': res['z']\n",
    "            })\n",
    "\n",
    "# Convert matches to DataFrame\n",
    "matches_df = pd.DataFrame(matches)\n",
    "\n",
    "# Display the matched results\n",
    "print(matches_df)"
   ]
  },
  {
   "cell_type": "code",
   "execution_count": 7,
   "metadata": {},
   "outputs": [
    {
     "data": {
      "text/plain": [
       "1900.0"
      ]
     },
     "execution_count": 7,
     "metadata": {},
     "output_type": "execute_result"
    }
   ],
   "source": [
    "0.0019 * 1_000_000"
   ]
  },
  {
   "cell_type": "code",
   "execution_count": null,
   "metadata": {},
   "outputs": [],
   "source": []
  }
 ],
 "metadata": {
  "kernelspec": {
   "display_name": "base",
   "language": "python",
   "name": "python3"
  },
  "language_info": {
   "codemirror_mode": {
    "name": "ipython",
    "version": 3
   },
   "file_extension": ".py",
   "mimetype": "text/x-python",
   "name": "python",
   "nbconvert_exporter": "python",
   "pygments_lexer": "ipython3",
   "version": "3.12.2"
  }
 },
 "nbformat": 4,
 "nbformat_minor": 2
}
